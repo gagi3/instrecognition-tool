{
 "cells": [
  {
   "cell_type": "markdown",
   "metadata": {},
   "source": [
    "---"
   ]
  },
  {
   "cell_type": "markdown",
   "metadata": {},
   "source": [
    "# InstRecognitionTool"
   ]
  },
  {
   "cell_type": "markdown",
   "metadata": {},
   "source": [
    "An instrument recognition tool."
   ]
  },
  {
   "cell_type": "markdown",
   "metadata": {},
   "source": [
    "---"
   ]
  },
  {
   "cell_type": "markdown",
   "metadata": {},
   "source": [
    "## Concept"
   ]
  },
  {
   "cell_type": "markdown",
   "metadata": {},
   "source": [
    "A brief summary of the tool, the datasets used, how features were extracted from each dataset and how they were classified."
   ]
  },
  {
   "cell_type": "markdown",
   "metadata": {},
   "source": [
    "### Dataset"
   ]
  },
  {
   "cell_type": "markdown",
   "metadata": {},
   "source": [
    "The dataset is called IRMAS, and can be downloaded from: https://www.upf.edu/web/mtg/irmas"
   ]
  },
  {
   "cell_type": "markdown",
   "metadata": {},
   "source": [
    "It is split on training data, as well as three different testing data groups."
   ]
  },
  {
   "cell_type": "markdown",
   "metadata": {},
   "source": [
    "All audio files are in 16-bit stereo format, sampled at 44.1kHz."
   ]
  },
  {
   "cell_type": "markdown",
   "metadata": {},
   "source": [
    "##### Instruments"
   ]
  },
  {
   "cell_type": "markdown",
   "metadata": {},
   "source": [
    "Below are the instruments, their corresponding labels and the number of audio files in training data. There is a total of 11 of them."
   ]
  },
  {
   "cell_type": "markdown",
   "metadata": {},
   "source": [
    "- cello,                 `cel`,   388\n",
    "- clarinet,              `cla`,   505\n",
    "- flute,                 `flu`,   451\n",
    "- acoustic guitar,       `gac`,   637\n",
    "- electric guitar,       `gel`,   760\n",
    "- organ,                 `org`,   682\n",
    "- piano,                 `pia`,   721\n",
    "- saxophone,             `sax`,   626\n",
    "- trumpet,               `tru`,   577\n",
    "- violin,                `vio`,   580\n",
    "- human singing voice,   `voi`,   778"
   ]
  },
  {
   "cell_type": "markdown",
   "metadata": {},
   "source": [
    "##### Training data"
   ]
  },
  {
   "cell_type": "markdown",
   "metadata": {},
   "source": [
    "- 6705 .wav files\n",
    "- spread over 11 folders\n",
    "- folders represent instruments and are labeled as such\n",
    "- each file name contains an instrument label, a genre label, and in some cases a drums presence label\n",
    "- each audio file is 3 seconds long\n",
    "- audio files are excerpts of different recordings from the past century\n",
    "- audio files vary in quality"
   ]
  },
  {
   "cell_type": "markdown",
   "metadata": {},
   "source": [
    "##### Testing data"
   ]
  },
  {
   "cell_type": "markdown",
   "metadata": {},
   "source": [
    "- 3 testing groups\n",
    "- test group 1 contains 807 .wav files\n",
    "- test group 2 contains 1301 .wav files\n",
    "- test group 3 contains 766 .wav files\n",
    "- file names do not contain instrument labels\n",
    "- audio file lengths vary from around 5 to 20 seconds\n",
    "- audio files are excerpts from existing songs"
   ]
  },
  {
   "cell_type": "markdown",
   "metadata": {},
   "source": [
    "##### Validation data"
   ]
  },
  {
   "cell_type": "markdown",
   "metadata": {},
   "source": [
    "- with each .wav file in the testing data groups, there is an annotated .txt file, with the same name\n",
    "- every annotated .txt file contains either one or two instrument labels corresponding to the instruments used in the .wav file\n",
    "- the annotated files were generated manually\n",
    "- they are used to validate the prediction"
   ]
  },
  {
   "cell_type": "markdown",
   "metadata": {},
   "source": [
    "### Machine learning"
   ]
  },
  {
   "cell_type": "markdown",
   "metadata": {},
   "source": [
    "A brief summary of the feature extraction and classification algorithms used."
   ]
  },
  {
   "cell_type": "markdown",
   "metadata": {},
   "source": [
    "##### Feature extraction"
   ]
  },
  {
   "cell_type": "markdown",
   "metadata": {},
   "source": [
    "20 _MFCCs_ (_Mel-Frequency Cepstrum Coefficients_) were used as features and were obtained using `librosa` library for python."
   ]
  },
  {
   "cell_type": "markdown",
   "metadata": {},
   "source": [
    "MFCCs are derived as follows:"
   ]
  },
  {
   "cell_type": "markdown",
   "metadata": {},
   "source": [
    "1. Take the _Fourier Transform_ of a signal\n",
    "2. Map the powers of the spectrum obtained above onto the mel scale, using triangular overlapping windows\n",
    "3. Take the logs of the powers at each of the mel frequencies\n",
    "4. Take the _Discrete Cosine Transform_ (_DCT_) of the list of mel log powers, as if it were a signal\n",
    "5. The _MFCCs_ are the amplitudes of the resulting spectrum"
   ]
  },
  {
   "cell_type": "markdown",
   "metadata": {},
   "source": [
    "##### Classification"
   ]
  },
  {
   "cell_type": "markdown",
   "metadata": {},
   "source": [
    "_KNN_ (_K-Nearest Neighbours_) algorithm was used for instrument classification. The `sklearn` library was used, and from it `neighbors` was imported. "
   ]
  },
  {
   "cell_type": "markdown",
   "metadata": {},
   "source": [
    "The input for training consisted of _MFCCs_ and the corresponding classes (instruments), represented by numbers ranging from 1 to 11. The classes were obtained by parsing the file path to each audio file, getting the name of its parent folder. The name of the folder was later converted to a number, ranging from 1 to 11. "
   ]
  },
  {
   "cell_type": "markdown",
   "metadata": {},
   "source": [
    "The input for testing consisted of _MFCCs_ only, and it was used for prediction. The output was the predicted class, represented by a number, ranging from 1 to 11."
   ]
  },
  {
   "cell_type": "markdown",
   "metadata": {},
   "source": [
    "Within testing, validation was also done, using validation data, described above."
   ]
  },
  {
   "cell_type": "markdown",
   "metadata": {},
   "source": [
    "Accuracy was calculated and represented by a percentage of accurate guesses within the testing group (and later for all testing groups). An accurate guess meant that the prediction of an element's class was the same as the class (or one of the two) provided in the validation data."
   ]
  },
  {
   "cell_type": "markdown",
   "metadata": {},
   "source": [
    "K was set to 97, as it was a square root of the number of elements within the dataset. It is also a prime, uneven number, which is also recommended. It also produced the best results."
   ]
  },
  {
   "cell_type": "markdown",
   "metadata": {},
   "source": [
    "That means that for every element within the input test data, 97 nearest neighbours were taken into account when determining the class it belongs to. The output class is determined by the plurality vote; that is, the most common class out of the 97 neighbours is the output class."
   ]
  },
  {
   "cell_type": "markdown",
   "metadata": {},
   "source": [
    "The algorithm was tested for K = {5, 11, 31, 97}."
   ]
  },
  {
   "cell_type": "markdown",
   "metadata": {},
   "source": [
    "- For K = 5, overall accuracy was around 31% for the entire testing set.\n",
    "- For K = 11, overall accuracy was around 34% for the entire testing set.\n",
    "- For K = 31, overall accuracy was around 38% for the entire testing set.\n",
    "- For K = 97, overall accuracy was around 40% for the entire testing set."
   ]
  },
  {
   "cell_type": "markdown",
   "metadata": {},
   "source": [
    "The accuracy improved with the increase of K, however there was only a slight increase of accuracy that resulted from an increase of K. That was especially noticeable when K was increased from 31 to 97. Increasing K did not negatively affect performance."
   ]
  },
  {
   "cell_type": "markdown",
   "metadata": {},
   "source": [
    "### Conclusion"
   ]
  },
  {
   "cell_type": "markdown",
   "metadata": {},
   "source": [
    "While an accuracy of 40% is very small, a higher accuracy might be achieved."
   ]
  },
  {
   "cell_type": "markdown",
   "metadata": {},
   "source": [
    "That can be done in the following ways:"
   ]
  },
  {
   "cell_type": "markdown",
   "metadata": {},
   "source": [
    "- using some cross-validation method, such as K-Fold\n",
    "- increasing the number of features\n",
    "- making the features more unique, perhaps by extracting features differently\n",
    "- limiting the dataset to only a few instruments\n",
    "- using different ML algorithms (such as Random Forest)\n",
    "- etc."
   ]
  },
  {
   "cell_type": "markdown",
   "metadata": {},
   "source": [
    "---"
   ]
  },
  {
   "cell_type": "markdown",
   "metadata": {},
   "source": [
    "## Implementation"
   ]
  },
  {
   "cell_type": "markdown",
   "metadata": {},
   "source": [
    "### Instructions and prerequisites"
   ]
  },
  {
   "cell_type": "markdown",
   "metadata": {},
   "source": [
    "##### Prerequisites"
   ]
  },
  {
   "cell_type": "markdown",
   "metadata": {},
   "source": [
    "- `Anaconda` for Python 3.6, x64\n",
    "- `Jupyter notebook` 5.5.0\n",
    "- `numpy` 1.14.3\n",
    "- `scikit-learn` 0.19.1\n",
    "- `glob2` 0.6\n",
    "- `librosa` 0.6.3"
   ]
  },
  {
   "cell_type": "markdown",
   "metadata": {},
   "source": [
    "Additionally, it is required that the extracted IRMAS datasets are placed in the following folder:"
   ]
  },
  {
   "cell_type": "markdown",
   "metadata": {},
   "source": [
    "- D:\\College\\Soft Computing\\Data"
   ]
  },
  {
   "cell_type": "markdown",
   "metadata": {},
   "source": [
    "The folder structure of Data folder should then look like:"
   ]
  },
  {
   "cell_type": "markdown",
   "metadata": {},
   "source": [
    "- \\ IRMAS-TestingData-Part1 \\ Part1 \\ {.wav & .txt files}\n",
    "- \\ IRMAS-TestingData-Part2 \\ IRTestingData-Part2 \\ {.wav & .txt files}\n",
    "- \\ IRMAS-TestingData-Part3 \\ Part3 \\ {.wav & .txt files}\n",
    "- \\ IRMAS-TrainingData \\ {instrument label} \\ {.wav files}\n",
    "- \\ DEFENSE \\ {.wav & .txt files}"
   ]
  },
  {
   "cell_type": "markdown",
   "metadata": {},
   "source": [
    " ##### Instructions"
   ]
  },
  {
   "cell_type": "markdown",
   "metadata": {},
   "source": [
    "1. Clone the project repository.\n",
    "2. Open the `IRT.ipynb` file in a `Jupyter Notebook`.\n",
    "3. From the toolbar, click on `Cell`, then on `Run All`.\n",
    "4. Enjoy the awesomeness that is this project.\n",
    "5. Grade generously."
   ]
  },
  {
   "cell_type": "markdown",
   "metadata": {},
   "source": [
    "### Code"
   ]
  },
  {
   "cell_type": "markdown",
   "metadata": {},
   "source": [
    "Necessary libraries:"
   ]
  },
  {
   "cell_type": "code",
   "execution_count": null,
   "metadata": {},
   "outputs": [],
   "source": [
    "import time\n",
    "import importlib\n",
    "import read\n",
    "import classi"
   ]
  },
  {
   "cell_type": "markdown",
   "metadata": {},
   "source": [
    "#### TRAINING:"
   ]
  },
  {
   "cell_type": "markdown",
   "metadata": {},
   "source": [
    "- data reading, feature extraction, time spent and sample size"
   ]
  },
  {
   "cell_type": "code",
   "execution_count": null,
   "metadata": {},
   "outputs": [],
   "source": [
    "print(\"--- TRAINING DATA ---\")\n",
    "time_start = time.perf_counter()\n",
    "data = read.fext()\n",
    "elapsed_time = time.perf_counter() - time_start\n",
    "print(\"Feature extraction time:\", elapsed_time, \"seconds\")\n",
    "print(\"Data size:\", len(data), \"audio files\")"
   ]
  },
  {
   "cell_type": "markdown",
   "metadata": {},
   "source": [
    "- fitting the data using KNN"
   ]
  },
  {
   "cell_type": "code",
   "execution_count": null,
   "metadata": {
    "scrolled": true
   },
   "outputs": [],
   "source": [
    "knn = classi.train(data)"
   ]
  },
  {
   "cell_type": "markdown",
   "metadata": {},
   "source": [
    "#### TESTING ON ONE SAMPLE:"
   ]
  },
  {
   "cell_type": "markdown",
   "metadata": {},
   "source": [
    "- sample reading and feature extraction"
   ]
  },
  {
   "cell_type": "code",
   "execution_count": null,
   "metadata": {
    "scrolled": false
   },
   "outputs": [],
   "source": [
    "dataone = read.fextonetest()\n",
    "#print(dataone)"
   ]
  },
  {
   "cell_type": "markdown",
   "metadata": {},
   "source": [
    "- prediction and validation (using an annotated text file that contains the names of either one or two instruments that are present in the audio file of the same name)"
   ]
  },
  {
   "cell_type": "code",
   "execution_count": null,
   "metadata": {
    "scrolled": true
   },
   "outputs": [],
   "source": [
    "predicted = classi.testone(dataone, knn)\n",
    "if (dataone[3] == predicted[0]):\n",
    "    print(\"Correct!\", dataone[3], \"==\", predicted[0])\n",
    "elif(dataone[2] == predicted[0]):\n",
    "    print(\"Correct!\", dataone[2], \"==\", predicted[0])\n",
    "else:\n",
    "    print(\"Incorrect!\", dataone[3], \"!=\", predicted[0])"
   ]
  },
  {
   "cell_type": "markdown",
   "metadata": {},
   "source": [
    "#### TESTING (DATA PART 1):"
   ]
  },
  {
   "cell_type": "markdown",
   "metadata": {},
   "source": [
    "- data reading, feature extraction, time spent and sample size"
   ]
  },
  {
   "cell_type": "code",
   "execution_count": null,
   "metadata": {
    "scrolled": true
   },
   "outputs": [],
   "source": [
    "print(\"--- TESTING DATA PART 1 ---\")\n",
    "time_start = time.perf_counter()\n",
    "data1 = read.fexttest1()\n",
    "elapsed_time = time.perf_counter() - time_start\n",
    "print(\"Feature extraction time:\", elapsed_time, \"seconds\")\n",
    "print(\"Data size:\", len(data1), \"audio files\")"
   ]
  },
  {
   "cell_type": "markdown",
   "metadata": {},
   "source": [
    "- prediction on input data, including validation and accuracy calculation"
   ]
  },
  {
   "cell_type": "code",
   "execution_count": null,
   "metadata": {
    "scrolled": true
   },
   "outputs": [],
   "source": [
    "acc1 = classi.testandverify(data1, knn)"
   ]
  },
  {
   "cell_type": "markdown",
   "metadata": {},
   "source": [
    "- accuracy"
   ]
  },
  {
   "cell_type": "code",
   "execution_count": null,
   "metadata": {},
   "outputs": [],
   "source": [
    "print(\"Accuracy:\", acc1, \"%\")"
   ]
  },
  {
   "cell_type": "markdown",
   "metadata": {},
   "source": [
    "#### TESTING (DATA PART 2):"
   ]
  },
  {
   "cell_type": "markdown",
   "metadata": {},
   "source": [
    "- data reading, feature extraction, time spent and sample size"
   ]
  },
  {
   "cell_type": "code",
   "execution_count": null,
   "metadata": {},
   "outputs": [],
   "source": [
    "print(\"--- TESTING DATA PART 2 ---\")\n",
    "time_start = time.perf_counter()\n",
    "data2 = read.fexttest2()\n",
    "elapsed_time = time.perf_counter() - time_start\n",
    "print(\"Feature extraction time:\", elapsed_time, \"seconds\")\n",
    "print(\"Data size:\", len(data2), \"audio files\")"
   ]
  },
  {
   "cell_type": "markdown",
   "metadata": {},
   "source": [
    "- prediction on input data, including validation and accuracy calculation"
   ]
  },
  {
   "cell_type": "code",
   "execution_count": null,
   "metadata": {},
   "outputs": [],
   "source": [
    "acc2 = classi.testandverify(data2, knn)"
   ]
  },
  {
   "cell_type": "markdown",
   "metadata": {},
   "source": [
    "- accuracy"
   ]
  },
  {
   "cell_type": "code",
   "execution_count": null,
   "metadata": {},
   "outputs": [],
   "source": [
    "print(\"Accuracy:\", acc2, \"%\")"
   ]
  },
  {
   "cell_type": "markdown",
   "metadata": {},
   "source": [
    "#### TESTING (DATA PART 3):"
   ]
  },
  {
   "cell_type": "markdown",
   "metadata": {},
   "source": [
    "- data reading, feature extraction, time spent and sample size"
   ]
  },
  {
   "cell_type": "code",
   "execution_count": null,
   "metadata": {},
   "outputs": [],
   "source": [
    "print(\"--- TESTING DATA PART 3 ---\")\n",
    "time_start = time.perf_counter()\n",
    "data3 = read.fexttest3()\n",
    "elapsed_time = time.perf_counter() - time_start\n",
    "print(\"Feature extraction time:\", elapsed_time, \"seconds\")\n",
    "print(\"Data size:\", len(data3), \"audio files\")"
   ]
  },
  {
   "cell_type": "markdown",
   "metadata": {},
   "source": [
    "- prediction on input data, including validation and accuracy calculation"
   ]
  },
  {
   "cell_type": "code",
   "execution_count": null,
   "metadata": {},
   "outputs": [],
   "source": [
    "acc3 = classi.testandverify(data3, knn)"
   ]
  },
  {
   "cell_type": "markdown",
   "metadata": {},
   "source": [
    "- accuracy"
   ]
  },
  {
   "cell_type": "code",
   "execution_count": null,
   "metadata": {},
   "outputs": [],
   "source": [
    "print(\"Accuracy:\", acc3, \"%\")"
   ]
  },
  {
   "cell_type": "markdown",
   "metadata": {},
   "source": [
    "##### Average accuracy:"
   ]
  },
  {
   "cell_type": "code",
   "execution_count": null,
   "metadata": {
    "scrolled": true
   },
   "outputs": [],
   "source": [
    "print(\"Average accuracy:\", (acc1 + acc2 + acc3)/3, \"%\")"
   ]
  },
  {
   "cell_type": "markdown",
   "metadata": {},
   "source": [
    "#### TESTING (CUSTOM DATASET)"
   ]
  },
  {
   "cell_type": "markdown",
   "metadata": {},
   "source": [
    "- data reading, feature extraction, time spent and sample size"
   ]
  },
  {
   "cell_type": "code",
   "execution_count": null,
   "metadata": {},
   "outputs": [],
   "source": [
    "print(\"--- TESTING CUSTOM DATASET ---\")\n",
    "time_start = time.perf_counter()\n",
    "data4 = read.fextcustom()\n",
    "elapsed_time = time.perf_counter() - time_start\n",
    "print(\"Feature extraction time:\", elapsed_time, \"seconds\")\n",
    "print(\"Data size:\", len(data4), \"audio files\")"
   ]
  },
  {
   "cell_type": "markdown",
   "metadata": {},
   "source": [
    "- prediction on input data, including validation and accuracy calculation"
   ]
  },
  {
   "cell_type": "code",
   "execution_count": null,
   "metadata": {},
   "outputs": [],
   "source": [
    "acc4 = classi.testandverify(data4, knn)"
   ]
  },
  {
   "cell_type": "markdown",
   "metadata": {},
   "source": [
    "- accuracy"
   ]
  },
  {
   "cell_type": "code",
   "execution_count": null,
   "metadata": {},
   "outputs": [],
   "source": [
    "print(\"Accuracy:\", acc4, \"%\")"
   ]
  },
  {
   "cell_type": "markdown",
   "metadata": {},
   "source": [
    "---"
   ]
  },
  {
   "cell_type": "markdown",
   "metadata": {},
   "source": [
    "###### Reload .py files (avoids the need to restart the kernel every time the files are changed)"
   ]
  },
  {
   "cell_type": "code",
   "execution_count": null,
   "metadata": {},
   "outputs": [],
   "source": [
    "importlib.reload(read)\n",
    "importlib.reload(classi)"
   ]
  },
  {
   "cell_type": "markdown",
   "metadata": {},
   "source": [
    "---"
   ]
  },
  {
   "cell_type": "markdown",
   "metadata": {},
   "source": [
    "### THE END"
   ]
  },
  {
   "cell_type": "markdown",
   "metadata": {},
   "source": [
    "---"
   ]
  }
 ],
 "metadata": {
  "kernelspec": {
   "display_name": "Python 3",
   "language": "python",
   "name": "python3"
  },
  "language_info": {
   "codemirror_mode": {
    "name": "ipython",
    "version": 3
   },
   "file_extension": ".py",
   "mimetype": "text/x-python",
   "name": "python",
   "nbconvert_exporter": "python",
   "pygments_lexer": "ipython3",
   "version": "3.6.5"
  }
 },
 "nbformat": 4,
 "nbformat_minor": 2
}
